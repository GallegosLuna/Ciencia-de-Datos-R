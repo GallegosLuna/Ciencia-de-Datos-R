{
 "cells": [
  {
   "cell_type": "markdown",
   "id": "d3dc3d72",
   "metadata": {},
   "source": [
    "# Analisis exploratorio de datos sobre las acciones de Walmart"
   ]
  },
  {
   "cell_type": "code",
   "execution_count": 2,
   "id": "87ef7d3e",
   "metadata": {},
   "outputs": [
    {
     "name": "stderr",
     "output_type": "stream",
     "text": [
      "also installing the dependencies 'glue', 'lifecycle', 'rlang', 'pillar'\n",
      "\n"
     ]
    },
    {
     "name": "stdout",
     "output_type": "stream",
     "text": [
      "\n",
      "  There are binary versions available but the source versions are later:\n",
      "          binary source needs_compilation\n",
      "glue       1.4.2  1.6.2              TRUE\n",
      "lifecycle  1.0.0  1.0.1             FALSE\n",
      "rlang     0.4.11  1.0.2              TRUE\n",
      "pillar     1.6.0  1.7.0             FALSE\n",
      "dplyr      1.0.6  1.0.8              TRUE\n",
      "\n",
      "  Binaries will be installed\n",
      "package 'glue' successfully unpacked and MD5 sums checked\n",
      "package 'rlang' successfully unpacked and MD5 sums checked\n",
      "package 'dplyr' successfully unpacked and MD5 sums checked\n",
      "\n",
      "The downloaded binary packages are in\n",
      "\tC:\\Users\\enriq\\AppData\\Local\\Temp\\Rtmp00HQEs\\downloaded_packages\n"
     ]
    },
    {
     "name": "stderr",
     "output_type": "stream",
     "text": [
      "installing the source packages 'lifecycle', 'pillar'\n",
      "\n",
      "Warning message:\n",
      "\"package 'dplyr' was built under R version 3.6.3\"\n",
      "Attaching package: 'dplyr'\n",
      "\n",
      "The following objects are masked from 'package:stats':\n",
      "\n",
      "    filter, lag\n",
      "\n",
      "The following objects are masked from 'package:base':\n",
      "\n",
      "    intersect, setdiff, setequal, union\n",
      "\n",
      "Registered S3 methods overwritten by 'ggplot2':\n",
      "  method         from \n",
      "  [.quosures     rlang\n",
      "  c.quosures     rlang\n",
      "  print.quosures rlang\n"
     ]
    }
   ],
   "source": [
    "#Hay que cargar las librerias\n",
    "install.packages('dplyr')\n",
    "library(dplyr)\n",
    "library(ggplot2) \n",
    "library(readxl)\n",
    "library(ggplot2)"
   ]
  },
  {
   "cell_type": "code",
   "execution_count": 3,
   "id": "d3486fd1",
   "metadata": {},
   "outputs": [
    {
     "name": "stdout",
     "output_type": "stream",
     "text": [
      "[1] \"Imprimiremos los primeros 5 elementos del data.frame para ver mas o menos como son nuestros datos\"\n"
     ]
    }
   ],
   "source": [
    "wmt<-read.csv(\"C:\\\\Users\\\\enriq\\\\Downloads\\\\WMT.csv \",sep=\",\",header=T)\n",
    "print('Imprimiremos los primeros 5 elementos del data.frame para ver mas o menos como son nuestros datos')"
   ]
  },
  {
   "cell_type": "code",
   "execution_count": 4,
   "id": "552eaa8e",
   "metadata": {},
   "outputs": [
    {
     "data": {
      "text/html": [
       "<table>\n",
       "<thead><tr><th scope=col>Date</th><th scope=col>Open</th><th scope=col>High</th><th scope=col>Low</th><th scope=col>Close</th><th scope=col>Adj.Close</th><th scope=col>Volume</th></tr></thead>\n",
       "<tbody>\n",
       "\t<tr><td>1972-08-25</td><td>0.063477  </td><td>0.064697  </td><td>0.063477  </td><td>0.064453  </td><td>0.036447  </td><td>2508800   </td></tr>\n",
       "\t<tr><td>1972-08-28</td><td>0.064453  </td><td>0.064941  </td><td>0.064209  </td><td>0.064209  </td><td>0.036309  </td><td> 972800   </td></tr>\n",
       "\t<tr><td>1972-08-29</td><td>0.063965  </td><td>0.063965  </td><td>0.063477  </td><td>0.063477  </td><td>0.035895  </td><td>1945600   </td></tr>\n",
       "\t<tr><td>1972-08-30</td><td>0.063477  </td><td>0.063477  </td><td>0.062988  </td><td>0.063477  </td><td>0.035895  </td><td> 409600   </td></tr>\n",
       "\t<tr><td>1972-08-31</td><td>0.062988  </td><td>0.062988  </td><td>0.062500  </td><td>0.062500  </td><td>0.035343  </td><td> 870400   </td></tr>\n",
       "</tbody>\n",
       "</table>\n"
      ],
      "text/latex": [
       "\\begin{tabular}{r|lllllll}\n",
       " Date & Open & High & Low & Close & Adj.Close & Volume\\\\\n",
       "\\hline\n",
       "\t 1972-08-25 & 0.063477   & 0.064697   & 0.063477   & 0.064453   & 0.036447   & 2508800   \\\\\n",
       "\t 1972-08-28 & 0.064453   & 0.064941   & 0.064209   & 0.064209   & 0.036309   &  972800   \\\\\n",
       "\t 1972-08-29 & 0.063965   & 0.063965   & 0.063477   & 0.063477   & 0.035895   & 1945600   \\\\\n",
       "\t 1972-08-30 & 0.063477   & 0.063477   & 0.062988   & 0.063477   & 0.035895   &  409600   \\\\\n",
       "\t 1972-08-31 & 0.062988   & 0.062988   & 0.062500   & 0.062500   & 0.035343   &  870400   \\\\\n",
       "\\end{tabular}\n"
      ],
      "text/markdown": [
       "\n",
       "| Date | Open | High | Low | Close | Adj.Close | Volume |\n",
       "|---|---|---|---|---|---|---|\n",
       "| 1972-08-25 | 0.063477   | 0.064697   | 0.063477   | 0.064453   | 0.036447   | 2508800    |\n",
       "| 1972-08-28 | 0.064453   | 0.064941   | 0.064209   | 0.064209   | 0.036309   |  972800    |\n",
       "| 1972-08-29 | 0.063965   | 0.063965   | 0.063477   | 0.063477   | 0.035895   | 1945600    |\n",
       "| 1972-08-30 | 0.063477   | 0.063477   | 0.062988   | 0.063477   | 0.035895   |  409600    |\n",
       "| 1972-08-31 | 0.062988   | 0.062988   | 0.062500   | 0.062500   | 0.035343   |  870400    |\n",
       "\n"
      ],
      "text/plain": [
       "  Date       Open     High     Low      Close    Adj.Close Volume \n",
       "1 1972-08-25 0.063477 0.064697 0.063477 0.064453 0.036447  2508800\n",
       "2 1972-08-28 0.064453 0.064941 0.064209 0.064209 0.036309   972800\n",
       "3 1972-08-29 0.063965 0.063965 0.063477 0.063477 0.035895  1945600\n",
       "4 1972-08-30 0.063477 0.063477 0.062988 0.063477 0.035895   409600\n",
       "5 1972-08-31 0.062988 0.062988 0.062500 0.062500 0.035343   870400"
      ]
     },
     "metadata": {},
     "output_type": "display_data"
    },
    {
     "data": {
      "text/plain": [
       "         Date            Open                High                Low          \n",
       " 2022-03-07:    2   Min.   :  0.01562   Min.   :  0.01562   Min.   :  0.0144  \n",
       " 1972-08-25:    1   1st Qu.:  1.38672   1st Qu.:  1.40234   1st Qu.:  1.3750  \n",
       " 1972-08-28:    1   Median : 16.43750   Median : 16.59375   Median : 16.2500  \n",
       " 1972-08-29:    1   Mean   : 35.47920   Mean   : 35.81131   Mean   : 35.1513  \n",
       " 1972-08-30:    1   3rd Qu.: 56.39500   3rd Qu.: 57.00000   3rd Qu.: 55.6650  \n",
       " 1972-08-31:    1   Max.   :153.60001   Max.   :153.66000   Max.   :151.6600  \n",
       " (Other)   :12484                                                             \n",
       "     Close             Adj.Close             Volume         \n",
       " Min.   :  0.01562   Min.   :  0.00889   Min.   :        0  \n",
       " 1st Qu.:  1.38672   1st Qu.:  0.85832   1st Qu.:  3883600  \n",
       " Median : 16.37500   Median : 10.58877   Median :  6312800  \n",
       " Mean   : 35.48538   Mean   : 28.94868   Mean   :  7540560  \n",
       " 3rd Qu.: 56.31625   3rd Qu.: 40.92085   3rd Qu.:  9511400  \n",
       " Max.   :152.78999   Max.   :150.84265   Max.   :131833600  \n",
       "                                                            "
      ]
     },
     "metadata": {},
     "output_type": "display_data"
    }
   ],
   "source": [
    "wmt[1:5,]\n",
    "summary(wmt)\n",
    "#Como hemos visto, se tratan de precios de las acciones de WALMART en Dolares."
   ]
  },
  {
   "cell_type": "code",
   "execution_count": 5,
   "id": "6fa768e2",
   "metadata": {},
   "outputs": [
    {
     "data": {
      "text/html": [
       "<dl class=dl-horizontal>\n",
       "\t<dt>Date</dt>\n",
       "\t\t<dd>0</dd>\n",
       "\t<dt>Open</dt>\n",
       "\t\t<dd>0</dd>\n",
       "\t<dt>High</dt>\n",
       "\t\t<dd>0</dd>\n",
       "\t<dt>Low</dt>\n",
       "\t\t<dd>0</dd>\n",
       "\t<dt>Close</dt>\n",
       "\t\t<dd>0</dd>\n",
       "\t<dt>Adj.Close</dt>\n",
       "\t\t<dd>0</dd>\n",
       "\t<dt>Volume</dt>\n",
       "\t\t<dd>0</dd>\n",
       "</dl>\n"
      ],
      "text/latex": [
       "\\begin{description*}\n",
       "\\item[Date] 0\n",
       "\\item[Open] 0\n",
       "\\item[High] 0\n",
       "\\item[Low] 0\n",
       "\\item[Close] 0\n",
       "\\item[Adj.Close] 0\n",
       "\\item[Volume] 0\n",
       "\\end{description*}\n"
      ],
      "text/markdown": [
       "Date\n",
       ":   0Open\n",
       ":   0High\n",
       ":   0Low\n",
       ":   0Close\n",
       ":   0Adj.Close\n",
       ":   0Volume\n",
       ":   0\n",
       "\n"
      ],
      "text/plain": [
       "     Date      Open      High       Low     Close Adj.Close    Volume \n",
       "        0         0         0         0         0         0         0 "
      ]
     },
     "metadata": {},
     "output_type": "display_data"
    }
   ],
   "source": [
    "sapply(wmt,function(wmt)sum(is.na(wmt))) #No hay ningun valor nulo \n",
    "tr<-na.omit(wmt)#Eliminamos las filas donde existe un valor nulo, pero hay varias maneras\n",
    "#de tratar valores nulos"
   ]
  },
  {
   "cell_type": "code",
   "execution_count": 6,
   "id": "6e66ff3d",
   "metadata": {},
   "outputs": [],
   "source": [
    "tr=tr[-1:-5]\n",
    "#Solamente analizaremos los precios de cierre y el volumen porque son los unicos\n",
    "#datos relevantes."
   ]
  },
  {
   "cell_type": "code",
   "execution_count": 7,
   "id": "1c267223",
   "metadata": {},
   "outputs": [
    {
     "data": {
      "image/png": "[encoded data removed]",
      "text/plain": [
       "Plot with title \"Precio de cierre ajustado de las acciones de walmart\""
      ]
     },
     "metadata": {},
     "output_type": "display_data"
    }
   ],
   "source": [
    "plot(tr$Adj.Close,main='Precio de cierre ajustado de las acciones de walmart',type='l',col='red'\n",
    ", xlab='Fecha' , ylab='Precio'    )"
   ]
  },
  {
   "cell_type": "code",
   "execution_count": 8,
   "id": "a52c7cca",
   "metadata": {},
   "outputs": [
    {
     "data": {
      "image/png": "[encoded data removed]",
      "text/plain": [
       "Plot with title \"Movimientos de las accione de Walmart\""
      ]
     },
     "metadata": {},
     "output_type": "display_data"
    }
   ],
   "source": [
    "plot(tr$Volume,main='Movimientos de las accione de Walmart',type='l',col='blue'\n",
    "     , xlab='Fecha' , ylab='Volumen', ylim=c(0,131833600)  )"
   ]
  },
  {
   "cell_type": "code",
   "execution_count": 9,
   "id": "104d5c49",
   "metadata": {},
   "outputs": [
    {
     "data": {
      "image/png": "[encoded data removed]",
      "text/plain": [
       "Plot with title \"Histogram of tr$Adj.Close\""
      ]
     },
     "metadata": {},
     "output_type": "display_data"
    }
   ],
   "source": [
    "hist(tr$Adj.Close,col='red')"
   ]
  },
  {
   "cell_type": "code",
   "execution_count": 10,
   "id": "d013e5df",
   "metadata": {},
   "outputs": [
    {
     "data": {
      "image/png": "[encoded data removed]",
      "text/plain": [
       "Plot with title \"Histogram of tr$Volume\""
      ]
     },
     "metadata": {},
     "output_type": "display_data"
    }
   ],
   "source": [
    "hist(tr$Volume,col='blue')"
   ]
  },
  {
   "cell_type": "code",
   "execution_count": 11,
   "id": "09e93b75",
   "metadata": {},
   "outputs": [
    {
     "name": "stderr",
     "output_type": "stream",
     "text": [
      "`stat_bin()` using `bins = 30`. Pick better value with `binwidth`.\n"
     ]
    },
    {
     "data": {
      "image/png": "[encoded data removed]",
      "text/plain": [
       "plot without title"
      ]
     },
     "metadata": {},
     "output_type": "display_data"
    }
   ],
   "source": [
    "#Para hacer graficos mas bonitos usamos la libreria ggplot 2\n",
    "histograma <- ggplot(tr, aes(x=Adj.Close)) +\n",
    "  ggtitle(\"Precio de cierre ajustado de las acciones de walmart\") +\n",
    " \n",
    "  geom_histogram(color=\"Black\", fill=\"purple\")\n",
    "histograma"
   ]
  },
  {
   "cell_type": "code",
   "execution_count": 13,
   "id": "c5017758",
   "metadata": {},
   "outputs": [
    {
     "name": "stderr",
     "output_type": "stream",
     "text": [
      "also installing the dependencies 'ggplot2', 'scales'\n",
      "\n"
     ]
    },
    {
     "name": "stdout",
     "output_type": "stream",
     "text": [
      "\n",
      "  There are binary versions available but the source versions are later:\n",
      "        binary source needs_compilation\n",
      "ggplot2  3.3.3  3.3.5             FALSE\n",
      "GGally   2.1.1  2.1.2             FALSE\n",
      "\n",
      "package 'scales' successfully unpacked and MD5 sums checked\n"
     ]
    },
    {
     "name": "stderr",
     "output_type": "stream",
     "text": [
      "Warning message:\n",
      "\"cannot remove prior installation of package 'scales'\"Warning message in file.copy(savedcopy, lib, recursive = TRUE):\n",
      "\"problema al copiar C:\\Users\\enriq\\anaconda3\\Lib\\R\\library\\00LOCK\\scales\\libs\\x64\\scales.dll  a C:\\Users\\enriq\\anaconda3\\Lib\\R\\library\\scales\\libs\\x64\\scales.dll: Permission denied\"Warning message:\n",
      "\"restored 'scales'\""
     ]
    },
    {
     "name": "stdout",
     "output_type": "stream",
     "text": [
      "\n",
      "The downloaded binary packages are in\n",
      "\tC:\\Users\\enriq\\AppData\\Local\\Temp\\Rtmp00HQEs\\downloaded_packages\n"
     ]
    },
    {
     "name": "stderr",
     "output_type": "stream",
     "text": [
      "installing the source packages 'ggplot2', 'GGally'\n",
      "\n"
     ]
    },
    {
     "name": "stdout",
     "output_type": "stream",
     "text": [
      "\n",
      "  There is a binary version available but the source version is later:\n",
      "         binary source needs_compilation\n",
      "corrplot   0.88   0.92             FALSE\n",
      "\n"
     ]
    },
    {
     "name": "stderr",
     "output_type": "stream",
     "text": [
      "installing the source package 'corrplot'\n",
      "\n",
      "also installing the dependency 'quadprog'\n",
      "\n"
     ]
    },
    {
     "name": "stdout",
     "output_type": "stream",
     "text": [
      "package 'quadprog' successfully unpacked and MD5 sums checked\n",
      "package 'PerformanceAnalytics' successfully unpacked and MD5 sums checked\n",
      "\n",
      "The downloaded binary packages are in\n",
      "\tC:\\Users\\enriq\\AppData\\Local\\Temp\\Rtmp00HQEs\\downloaded_packages\n"
     ]
    },
    {
     "name": "stderr",
     "output_type": "stream",
     "text": [
      "Registered S3 method overwritten by 'GGally':\n",
      "  method from   \n",
      "  +.gg   ggplot2\n",
      "corrplot 0.92 loaded\n",
      "Warning message:\n",
      "\"package 'PerformanceAnalytics' was built under R version 3.6.3\"Loading required package: xts\n",
      "Loading required package: zoo\n",
      "\n",
      "Attaching package: 'zoo'\n",
      "\n",
      "The following objects are masked from 'package:base':\n",
      "\n",
      "    as.Date, as.Date.numeric\n",
      "\n",
      "Registered S3 method overwritten by 'xts':\n",
      "  method     from\n",
      "  as.zoo.xts zoo \n",
      "\n",
      "Attaching package: 'xts'\n",
      "\n",
      "The following objects are masked from 'package:dplyr':\n",
      "\n",
      "    first, last\n",
      "\n",
      "\n",
      "Attaching package: 'PerformanceAnalytics'\n",
      "\n",
      "The following object is masked from 'package:graphics':\n",
      "\n",
      "    legend\n",
      "\n"
     ]
    }
   ],
   "source": [
    "#Cargar paquetes para la correlacion\n",
    "install.packages('GGally')\n",
    "install.packages('corrplot')\n",
    "install.packages('PerformanceAnalytics')\n",
    "library(GGally)\n",
    "library(corrplot)\n",
    "library(PerformanceAnalytics)"
   ]
  },
  {
   "cell_type": "code",
   "execution_count": 14,
   "id": "b02d34d4",
   "metadata": {},
   "outputs": [
    {
     "data": {
      "text/html": [
       "0.266633873300595"
      ],
      "text/latex": [
       "0.266633873300595"
      ],
      "text/markdown": [
       "0.266633873300595"
      ],
      "text/plain": [
       "[1] 0.2666339"
      ]
     },
     "metadata": {},
     "output_type": "display_data"
    },
    {
     "data": {
      "text/plain": [
       "\n",
       "\tPearson's product-moment correlation\n",
       "\n",
       "data:  tr$Adj.Close and tr$Volume\n",
       "t = 30.917, df = 12489, p-value < 2.2e-16\n",
       "alternative hypothesis: true correlation is not equal to 0\n",
       "95 percent confidence interval:\n",
       " 0.2502670 0.2828484\n",
       "sample estimates:\n",
       "      cor \n",
       "0.2666339 \n"
      ]
     },
     "metadata": {},
     "output_type": "display_data"
    },
    {
     "data": {
      "text/html": [
       "<table>\n",
       "<thead><tr><th></th><th scope=col>Adj.Close</th><th scope=col>Volume</th></tr></thead>\n",
       "<tbody>\n",
       "\t<tr><th scope=row>Adj.Close</th><td>1.00</td><td>0.27</td></tr>\n",
       "\t<tr><th scope=row>Volume</th><td>0.27</td><td>1.00</td></tr>\n",
       "</tbody>\n",
       "</table>\n"
      ],
      "text/latex": [
       "\\begin{tabular}{r|ll}\n",
       "  & Adj.Close & Volume\\\\\n",
       "\\hline\n",
       "\tAdj.Close & 1.00 & 0.27\\\\\n",
       "\tVolume & 0.27 & 1.00\\\\\n",
       "\\end{tabular}\n"
      ],
      "text/markdown": [
       "\n",
       "| <!--/--> | Adj.Close | Volume |\n",
       "|---|---|---|\n",
       "| Adj.Close | 1.00 | 0.27 |\n",
       "| Volume | 0.27 | 1.00 |\n",
       "\n"
      ],
      "text/plain": [
       "          Adj.Close Volume\n",
       "Adj.Close 1.00      0.27  \n",
       "Volume    0.27      1.00  "
      ]
     },
     "metadata": {},
     "output_type": "display_data"
    },
    {
     "ename": "ERROR",
     "evalue": "Error in rcorr(as.matrix(tr)): no se pudo encontrar la función \"rcorr\"\n",
     "output_type": "error",
     "traceback": [
      "Error in rcorr(as.matrix(tr)): no se pudo encontrar la función \"rcorr\"\nTraceback:\n"
     ]
    }
   ],
   "source": [
    "#Coeficiente de correlacion entre el volumen y los precios de la accion\n",
    "cor(tr$Adj.Close,tr$Volume )\n",
    "#Parece ser una correlacion positiva debil\n",
    "#Debemos recordar que esto estadisticamente no sabemos si es significativa, por lo que utilizaremos\n",
    "#una prueba de hipotesis para saber si es debil o fuerte\n",
    "cor.test(tr$Adj.Close,tr$Volume)\n",
    "#Aqui nos da que la correlacion no es igual a cero, por lo cual la correlacion existe entre\n",
    "#estas dos variables\n",
    "#Si queremos analizar la correlacion de varias variables podemos verla en una matriz\n",
    "round(cor(tr),2) #Quitamos las fechas al no ser un dato numerico, debido a que no es valor numerico\n",
    "rcorr(as.matrix(tr))#La misma matriz, pero con p value para ver si es significativa"
   ]
  },
  {
   "cell_type": "code",
   "execution_count": 15,
   "id": "48b98713",
   "metadata": {},
   "outputs": [
    {
     "data": {
      "image/png": "[encoded data removed]",
      "text/plain": [
       "Plot with title \"\""
      ]
     },
     "metadata": {},
     "output_type": "display_data"
    }
   ],
   "source": [
    "correlacion<-round(cor(tr), 1)\n",
    "\n",
    "corrplot(correlacion, method=\"number\", type=\"upper\")#Matriz de forma grafica\n",
    "\n",
    "#También podemos hacer gráficos de dispersión, calcular los coeficientes de una sola vez\n",
    "#y ver si son estadísticamente significativos, con un solo comando:"
   ]
  },
  {
   "cell_type": "code",
   "execution_count": 16,
   "id": "92a7f1e7",
   "metadata": {},
   "outputs": [
    {
     "data": {
      "image/png": "[encoded data removed]",
      "text/plain": [
       "plot without title"
      ]
     },
     "metadata": {},
     "output_type": "display_data"
    }
   ],
   "source": [
    "chart.Correlation(tr, histogram = F, pch = 19)\n",
    "#Conocer la correlacion, nos permite hacer otros analisis como regresiones lineales etc. \n",
    "#Se realizaran mas proyectos de este tipo con temas mas avanzados y otras bases de datos.\n"
   ]
  },
  {
   "cell_type": "code",
   "execution_count": null,
   "id": "180c69e3",
   "metadata": {},
   "outputs": [],
   "source": []
  }
 ],
 "metadata": {
  "kernelspec": {
   "display_name": "R",
   "language": "R",
   "name": "ir"
  },
  "language_info": {
   "codemirror_mode": "r",
   "file_extension": ".r",
   "mimetype": "text/x-r-source",
   "name": "R",
   "pygments_lexer": "r",
   "version": "3.6.1"
  }
 },
 "nbformat": 4,
 "nbformat_minor": 5
}
